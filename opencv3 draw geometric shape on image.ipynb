{
 "cells": [
  {
   "cell_type": "code",
   "execution_count": 1,
   "metadata": {},
   "outputs": [],
   "source": [
    "import cv2"
   ]
  },
  {
   "cell_type": "code",
   "execution_count": 2,
   "metadata": {},
   "outputs": [],
   "source": [
    "img=cv2.imread('logo.jpg',1)"
   ]
  },
  {
   "cell_type": "code",
   "execution_count": 3,
   "metadata": {},
   "outputs": [],
   "source": [
    "img=cv2.line(img,(0,0),(255,255),(255,0,0),3)  #(0,0),(255,255) is the starting and ending coordinate of drawn line.(255,0,0)-RGB color & 3 is the thikness of line\n",
    "img=cv2.arrowedLine(img,(0,255),(255,255),(255,40,30),5)\n",
    "img=cv2.rectangle(img,(384,0),(510,128),(0,0,255),10)#(384,0)&(510,128) is coordinate of top left vertex and lower righ vertex coordinate\n",
    "img=cv2.circle(img,(447,3),63,(0,255,0),-1) #(447,3)-cener coordinate and 63- radius & -1 used for fill inside rgb color\n"
   ]
  },
  {
   "cell_type": "code",
   "execution_count": 4,
   "metadata": {},
   "outputs": [],
   "source": [
    "cv2.imshow('image',img)\n",
    "cv2.waitKey(0)\n",
    "cv2.destroyAllWindows()"
   ]
  }
 ],
 "metadata": {
  "kernelspec": {
   "display_name": "Python 3",
   "language": "python",
   "name": "python3"
  },
  "language_info": {
   "codemirror_mode": {
    "name": "ipython",
    "version": 3
   },
   "file_extension": ".py",
   "mimetype": "text/x-python",
   "name": "python",
   "nbconvert_exporter": "python",
   "pygments_lexer": "ipython3",
   "version": "3.8.3"
  }
 },
 "nbformat": 4,
 "nbformat_minor": 4
}
